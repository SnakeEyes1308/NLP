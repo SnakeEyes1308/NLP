{
 "nbformat": 4,
 "nbformat_minor": 0,
 "metadata": {
  "colab": {
   "provenance": [],
   "collapsed_sections": [
    "A7sve6IrX75b",
    "9ozPj74lVtdI",
    "2pizdu_9Vyew"
   ]
  },
  "kernelspec": {
   "name": "python3",
   "language": "python",
   "display_name": "Python 3 (ipykernel)"
  },
  "language_info": {
   "name": "python"
  }
 },
 "cells": [
  {
   "cell_type": "markdown",
   "source": [
    "\n",
    "# 1.1. Author's Details"
   ],
   "metadata": {
    "id": "A7sve6IrX75b"
   }
  },
  {
   "cell_type": "markdown",
   "source": [
    "## Name : Nisarg Patel <br>\n",
    "## PRN : 21070126060 <br>\n",
    "## Batch : AIML - A3 <br>\n",
    "## Git-Repo : [GitRepo](https://github.com/SnakeEyes1308/NLP) <br>"
   ],
   "metadata": {
    "collapsed": false
   }
  },
  {
   "cell_type": "code",
   "source": [
    "# NLP\n",
    "import string, re, nltk\n",
    "from string import punctuation\n",
    "from nltk.tokenize import word_tokenize, RegexpTokenizer\n",
    "from nltk.corpus import stopwords\n",
    "import spacy\n",
    "# !pip install contractions\n",
    "import contractions"
   ],
   "metadata": {
    "colab": {
     "base_uri": "https://localhost:8080/"
    },
    "id": "ADvpbX72W3wT",
    "outputId": "dcaa6947-0c08-4bb4-c15c-ff9fe78f1c62",
    "ExecuteTime": {
     "end_time": "2023-08-23T08:10:10.477763Z",
     "start_time": "2023-08-23T08:10:10.449117Z"
    }
   },
   "execution_count": 2,
   "outputs": []
  },
  {
   "cell_type": "code",
   "source": [
    "# nltk.download(\"all\")\n",
    "!python -m spacy download en_core_web_lg"
   ],
   "metadata": {
    "colab": {
     "base_uri": "https://localhost:8080/"
    },
    "id": "kDkxWBEmW6G0",
    "outputId": "b59f94e5-d3fd-4462-e5ad-ae531f96226f"
   },
   "execution_count": 2,
   "outputs": [
    {
     "output_type": "stream",
     "name": "stderr",
     "text": [
      "[nltk_data] Downloading collection 'all'\n",
      "[nltk_data]    | \n",
      "[nltk_data]    | Downloading package abc to /root/nltk_data...\n",
      "[nltk_data]    |   Unzipping corpora/abc.zip.\n",
      "[nltk_data]    | Downloading package alpino to /root/nltk_data...\n",
      "[nltk_data]    |   Unzipping corpora/alpino.zip.\n",
      "[nltk_data]    | Downloading package averaged_perceptron_tagger to\n",
      "[nltk_data]    |     /root/nltk_data...\n",
      "[nltk_data]    |   Unzipping taggers/averaged_perceptron_tagger.zip.\n",
      "[nltk_data]    | Downloading package averaged_perceptron_tagger_ru to\n",
      "[nltk_data]    |     /root/nltk_data...\n",
      "[nltk_data]    |   Unzipping\n",
      "[nltk_data]    |       taggers/averaged_perceptron_tagger_ru.zip.\n",
      "[nltk_data]    | Downloading package basque_grammars to\n",
      "[nltk_data]    |     /root/nltk_data...\n",
      "[nltk_data]    |   Unzipping grammars/basque_grammars.zip.\n",
      "[nltk_data]    | Downloading package bcp47 to /root/nltk_data...\n",
      "[nltk_data]    | Downloading package biocreative_ppi to\n",
      "[nltk_data]    |     /root/nltk_data...\n",
      "[nltk_data]    |   Unzipping corpora/biocreative_ppi.zip.\n",
      "[nltk_data]    | Downloading package bllip_wsj_no_aux to\n",
      "[nltk_data]    |     /root/nltk_data...\n",
      "[nltk_data]    |   Unzipping models/bllip_wsj_no_aux.zip.\n",
      "[nltk_data]    | Downloading package book_grammars to\n",
      "[nltk_data]    |     /root/nltk_data...\n",
      "[nltk_data]    |   Unzipping grammars/book_grammars.zip.\n",
      "[nltk_data]    | Downloading package brown to /root/nltk_data...\n",
      "[nltk_data]    |   Unzipping corpora/brown.zip.\n",
      "[nltk_data]    | Downloading package brown_tei to /root/nltk_data...\n",
      "[nltk_data]    |   Unzipping corpora/brown_tei.zip.\n",
      "[nltk_data]    | Downloading package cess_cat to /root/nltk_data...\n",
      "[nltk_data]    |   Unzipping corpora/cess_cat.zip.\n",
      "[nltk_data]    | Downloading package cess_esp to /root/nltk_data...\n",
      "[nltk_data]    |   Unzipping corpora/cess_esp.zip.\n",
      "[nltk_data]    | Downloading package chat80 to /root/nltk_data...\n",
      "[nltk_data]    |   Unzipping corpora/chat80.zip.\n",
      "[nltk_data]    | Downloading package city_database to\n",
      "[nltk_data]    |     /root/nltk_data...\n",
      "[nltk_data]    |   Unzipping corpora/city_database.zip.\n",
      "[nltk_data]    | Downloading package cmudict to /root/nltk_data...\n",
      "[nltk_data]    |   Unzipping corpora/cmudict.zip.\n",
      "[nltk_data]    | Downloading package comparative_sentences to\n",
      "[nltk_data]    |     /root/nltk_data...\n",
      "[nltk_data]    |   Unzipping corpora/comparative_sentences.zip.\n",
      "[nltk_data]    | Downloading package comtrans to /root/nltk_data...\n",
      "[nltk_data]    | Downloading package conll2000 to /root/nltk_data...\n",
      "[nltk_data]    |   Unzipping corpora/conll2000.zip.\n",
      "[nltk_data]    | Downloading package conll2002 to /root/nltk_data...\n",
      "[nltk_data]    |   Unzipping corpora/conll2002.zip.\n",
      "[nltk_data]    | Downloading package conll2007 to /root/nltk_data...\n",
      "[nltk_data]    | Downloading package crubadan to /root/nltk_data...\n",
      "[nltk_data]    |   Unzipping corpora/crubadan.zip.\n",
      "[nltk_data]    | Downloading package dependency_treebank to\n",
      "[nltk_data]    |     /root/nltk_data...\n",
      "[nltk_data]    |   Unzipping corpora/dependency_treebank.zip.\n",
      "[nltk_data]    | Downloading package dolch to /root/nltk_data...\n",
      "[nltk_data]    |   Unzipping corpora/dolch.zip.\n",
      "[nltk_data]    | Downloading package europarl_raw to\n",
      "[nltk_data]    |     /root/nltk_data...\n",
      "[nltk_data]    |   Unzipping corpora/europarl_raw.zip.\n",
      "[nltk_data]    | Downloading package extended_omw to\n",
      "[nltk_data]    |     /root/nltk_data...\n",
      "[nltk_data]    | Downloading package floresta to /root/nltk_data...\n",
      "[nltk_data]    |   Unzipping corpora/floresta.zip.\n",
      "[nltk_data]    | Downloading package framenet_v15 to\n",
      "[nltk_data]    |     /root/nltk_data...\n",
      "[nltk_data]    |   Unzipping corpora/framenet_v15.zip.\n",
      "[nltk_data]    | Downloading package framenet_v17 to\n",
      "[nltk_data]    |     /root/nltk_data...\n",
      "[nltk_data]    |   Unzipping corpora/framenet_v17.zip.\n",
      "[nltk_data]    | Downloading package gazetteers to /root/nltk_data...\n",
      "[nltk_data]    |   Unzipping corpora/gazetteers.zip.\n",
      "[nltk_data]    | Downloading package genesis to /root/nltk_data...\n",
      "[nltk_data]    |   Unzipping corpora/genesis.zip.\n",
      "[nltk_data]    | Downloading package gutenberg to /root/nltk_data...\n",
      "[nltk_data]    |   Unzipping corpora/gutenberg.zip.\n",
      "[nltk_data]    | Downloading package ieer to /root/nltk_data...\n",
      "[nltk_data]    |   Unzipping corpora/ieer.zip.\n",
      "[nltk_data]    | Downloading package inaugural to /root/nltk_data...\n",
      "[nltk_data]    |   Unzipping corpora/inaugural.zip.\n",
      "[nltk_data]    | Downloading package indian to /root/nltk_data...\n",
      "[nltk_data]    |   Unzipping corpora/indian.zip.\n",
      "[nltk_data]    | Downloading package jeita to /root/nltk_data...\n",
      "[nltk_data]    | Downloading package kimmo to /root/nltk_data...\n",
      "[nltk_data]    |   Unzipping corpora/kimmo.zip.\n",
      "[nltk_data]    | Downloading package knbc to /root/nltk_data...\n",
      "[nltk_data]    | Downloading package large_grammars to\n",
      "[nltk_data]    |     /root/nltk_data...\n",
      "[nltk_data]    |   Unzipping grammars/large_grammars.zip.\n",
      "[nltk_data]    | Downloading package lin_thesaurus to\n",
      "[nltk_data]    |     /root/nltk_data...\n",
      "[nltk_data]    |   Unzipping corpora/lin_thesaurus.zip.\n",
      "[nltk_data]    | Downloading package mac_morpho to /root/nltk_data...\n",
      "[nltk_data]    |   Unzipping corpora/mac_morpho.zip.\n",
      "[nltk_data]    | Downloading package machado to /root/nltk_data...\n",
      "[nltk_data]    | Downloading package masc_tagged to /root/nltk_data...\n",
      "[nltk_data]    | Downloading package maxent_ne_chunker to\n",
      "[nltk_data]    |     /root/nltk_data...\n",
      "[nltk_data]    |   Unzipping chunkers/maxent_ne_chunker.zip.\n",
      "[nltk_data]    | Downloading package maxent_treebank_pos_tagger to\n",
      "[nltk_data]    |     /root/nltk_data...\n",
      "[nltk_data]    |   Unzipping taggers/maxent_treebank_pos_tagger.zip.\n",
      "[nltk_data]    | Downloading package moses_sample to\n",
      "[nltk_data]    |     /root/nltk_data...\n",
      "[nltk_data]    |   Unzipping models/moses_sample.zip.\n",
      "[nltk_data]    | Downloading package movie_reviews to\n",
      "[nltk_data]    |     /root/nltk_data...\n",
      "[nltk_data]    |   Unzipping corpora/movie_reviews.zip.\n",
      "[nltk_data]    | Downloading package mte_teip5 to /root/nltk_data...\n",
      "[nltk_data]    |   Unzipping corpora/mte_teip5.zip.\n",
      "[nltk_data]    | Downloading package mwa_ppdb to /root/nltk_data...\n",
      "[nltk_data]    |   Unzipping misc/mwa_ppdb.zip.\n",
      "[nltk_data]    | Downloading package names to /root/nltk_data...\n",
      "[nltk_data]    |   Unzipping corpora/names.zip.\n",
      "[nltk_data]    | Downloading package nombank.1.0 to /root/nltk_data...\n",
      "[nltk_data]    | Downloading package nonbreaking_prefixes to\n",
      "[nltk_data]    |     /root/nltk_data...\n",
      "[nltk_data]    |   Unzipping corpora/nonbreaking_prefixes.zip.\n",
      "[nltk_data]    | Downloading package nps_chat to /root/nltk_data...\n",
      "[nltk_data]    |   Unzipping corpora/nps_chat.zip.\n",
      "[nltk_data]    | Downloading package omw to /root/nltk_data...\n",
      "[nltk_data]    | Downloading package omw-1.4 to /root/nltk_data...\n",
      "[nltk_data]    | Downloading package opinion_lexicon to\n",
      "[nltk_data]    |     /root/nltk_data...\n",
      "[nltk_data]    |   Unzipping corpora/opinion_lexicon.zip.\n",
      "[nltk_data]    | Downloading package panlex_swadesh to\n",
      "[nltk_data]    |     /root/nltk_data...\n",
      "[nltk_data]    | Downloading package paradigms to /root/nltk_data...\n",
      "[nltk_data]    |   Unzipping corpora/paradigms.zip.\n",
      "[nltk_data]    | Downloading package pe08 to /root/nltk_data...\n",
      "[nltk_data]    |   Unzipping corpora/pe08.zip.\n",
      "[nltk_data]    | Downloading package perluniprops to\n",
      "[nltk_data]    |     /root/nltk_data...\n",
      "[nltk_data]    |   Unzipping misc/perluniprops.zip.\n",
      "[nltk_data]    | Downloading package pil to /root/nltk_data...\n",
      "[nltk_data]    |   Unzipping corpora/pil.zip.\n",
      "[nltk_data]    | Downloading package pl196x to /root/nltk_data...\n",
      "[nltk_data]    |   Unzipping corpora/pl196x.zip.\n",
      "[nltk_data]    | Downloading package porter_test to /root/nltk_data...\n",
      "[nltk_data]    |   Unzipping stemmers/porter_test.zip.\n",
      "[nltk_data]    | Downloading package ppattach to /root/nltk_data...\n",
      "[nltk_data]    |   Unzipping corpora/ppattach.zip.\n",
      "[nltk_data]    | Downloading package problem_reports to\n",
      "[nltk_data]    |     /root/nltk_data...\n",
      "[nltk_data]    |   Unzipping corpora/problem_reports.zip.\n",
      "[nltk_data]    | Downloading package product_reviews_1 to\n",
      "[nltk_data]    |     /root/nltk_data...\n",
      "[nltk_data]    |   Unzipping corpora/product_reviews_1.zip.\n",
      "[nltk_data]    | Downloading package product_reviews_2 to\n",
      "[nltk_data]    |     /root/nltk_data...\n",
      "[nltk_data]    |   Unzipping corpora/product_reviews_2.zip.\n",
      "[nltk_data]    | Downloading package propbank to /root/nltk_data...\n",
      "[nltk_data]    | Downloading package pros_cons to /root/nltk_data...\n",
      "[nltk_data]    |   Unzipping corpora/pros_cons.zip.\n",
      "[nltk_data]    | Downloading package ptb to /root/nltk_data...\n",
      "[nltk_data]    |   Unzipping corpora/ptb.zip.\n",
      "[nltk_data]    | Downloading package punkt to /root/nltk_data...\n",
      "[nltk_data]    |   Unzipping tokenizers/punkt.zip.\n",
      "[nltk_data]    | Downloading package qc to /root/nltk_data...\n",
      "[nltk_data]    |   Unzipping corpora/qc.zip.\n",
      "[nltk_data]    | Downloading package reuters to /root/nltk_data...\n",
      "[nltk_data]    | Downloading package rslp to /root/nltk_data...\n",
      "[nltk_data]    |   Unzipping stemmers/rslp.zip.\n",
      "[nltk_data]    | Downloading package rte to /root/nltk_data...\n",
      "[nltk_data]    |   Unzipping corpora/rte.zip.\n",
      "[nltk_data]    | Downloading package sample_grammars to\n",
      "[nltk_data]    |     /root/nltk_data...\n",
      "[nltk_data]    |   Unzipping grammars/sample_grammars.zip.\n",
      "[nltk_data]    | Downloading package semcor to /root/nltk_data...\n",
      "[nltk_data]    | Downloading package senseval to /root/nltk_data...\n",
      "[nltk_data]    |   Unzipping corpora/senseval.zip.\n",
      "[nltk_data]    | Downloading package sentence_polarity to\n",
      "[nltk_data]    |     /root/nltk_data...\n",
      "[nltk_data]    |   Unzipping corpora/sentence_polarity.zip.\n",
      "[nltk_data]    | Downloading package sentiwordnet to\n",
      "[nltk_data]    |     /root/nltk_data...\n",
      "[nltk_data]    |   Unzipping corpora/sentiwordnet.zip.\n",
      "[nltk_data]    | Downloading package shakespeare to /root/nltk_data...\n",
      "[nltk_data]    |   Unzipping corpora/shakespeare.zip.\n",
      "[nltk_data]    | Downloading package sinica_treebank to\n",
      "[nltk_data]    |     /root/nltk_data...\n",
      "[nltk_data]    |   Unzipping corpora/sinica_treebank.zip.\n",
      "[nltk_data]    | Downloading package smultron to /root/nltk_data...\n",
      "[nltk_data]    |   Unzipping corpora/smultron.zip.\n",
      "[nltk_data]    | Downloading package snowball_data to\n",
      "[nltk_data]    |     /root/nltk_data...\n",
      "[nltk_data]    | Downloading package spanish_grammars to\n",
      "[nltk_data]    |     /root/nltk_data...\n",
      "[nltk_data]    |   Unzipping grammars/spanish_grammars.zip.\n",
      "[nltk_data]    | Downloading package state_union to /root/nltk_data...\n",
      "[nltk_data]    |   Unzipping corpora/state_union.zip.\n",
      "[nltk_data]    | Downloading package stopwords to /root/nltk_data...\n",
      "[nltk_data]    |   Unzipping corpora/stopwords.zip.\n",
      "[nltk_data]    | Downloading package subjectivity to\n",
      "[nltk_data]    |     /root/nltk_data...\n",
      "[nltk_data]    |   Unzipping corpora/subjectivity.zip.\n",
      "[nltk_data]    | Downloading package swadesh to /root/nltk_data...\n",
      "[nltk_data]    |   Unzipping corpora/swadesh.zip.\n",
      "[nltk_data]    | Downloading package switchboard to /root/nltk_data...\n",
      "[nltk_data]    |   Unzipping corpora/switchboard.zip.\n",
      "[nltk_data]    | Downloading package tagsets to /root/nltk_data...\n",
      "[nltk_data]    |   Unzipping help/tagsets.zip.\n",
      "[nltk_data]    | Downloading package timit to /root/nltk_data...\n",
      "[nltk_data]    |   Unzipping corpora/timit.zip.\n",
      "[nltk_data]    | Downloading package toolbox to /root/nltk_data...\n",
      "[nltk_data]    |   Unzipping corpora/toolbox.zip.\n",
      "[nltk_data]    | Downloading package treebank to /root/nltk_data...\n",
      "[nltk_data]    |   Unzipping corpora/treebank.zip.\n",
      "[nltk_data]    | Downloading package twitter_samples to\n",
      "[nltk_data]    |     /root/nltk_data...\n",
      "[nltk_data]    |   Unzipping corpora/twitter_samples.zip.\n",
      "[nltk_data]    | Downloading package udhr to /root/nltk_data...\n",
      "[nltk_data]    |   Unzipping corpora/udhr.zip.\n",
      "[nltk_data]    | Downloading package udhr2 to /root/nltk_data...\n",
      "[nltk_data]    |   Unzipping corpora/udhr2.zip.\n",
      "[nltk_data]    | Downloading package unicode_samples to\n",
      "[nltk_data]    |     /root/nltk_data...\n",
      "[nltk_data]    |   Unzipping corpora/unicode_samples.zip.\n",
      "[nltk_data]    | Downloading package universal_tagset to\n",
      "[nltk_data]    |     /root/nltk_data...\n",
      "[nltk_data]    |   Unzipping taggers/universal_tagset.zip.\n",
      "[nltk_data]    | Downloading package universal_treebanks_v20 to\n",
      "[nltk_data]    |     /root/nltk_data...\n",
      "[nltk_data]    | Downloading package vader_lexicon to\n",
      "[nltk_data]    |     /root/nltk_data...\n",
      "[nltk_data]    | Downloading package verbnet to /root/nltk_data...\n",
      "[nltk_data]    |   Unzipping corpora/verbnet.zip.\n",
      "[nltk_data]    | Downloading package verbnet3 to /root/nltk_data...\n",
      "[nltk_data]    |   Unzipping corpora/verbnet3.zip.\n",
      "[nltk_data]    | Downloading package webtext to /root/nltk_data...\n",
      "[nltk_data]    |   Unzipping corpora/webtext.zip.\n",
      "[nltk_data]    | Downloading package wmt15_eval to /root/nltk_data...\n",
      "[nltk_data]    |   Unzipping models/wmt15_eval.zip.\n",
      "[nltk_data]    | Downloading package word2vec_sample to\n",
      "[nltk_data]    |     /root/nltk_data...\n",
      "[nltk_data]    |   Unzipping models/word2vec_sample.zip.\n",
      "[nltk_data]    | Downloading package wordnet to /root/nltk_data...\n",
      "[nltk_data]    | Downloading package wordnet2021 to /root/nltk_data...\n",
      "[nltk_data]    | Downloading package wordnet2022 to /root/nltk_data...\n",
      "[nltk_data]    |   Unzipping corpora/wordnet2022.zip.\n",
      "[nltk_data]    | Downloading package wordnet31 to /root/nltk_data...\n",
      "[nltk_data]    | Downloading package wordnet_ic to /root/nltk_data...\n",
      "[nltk_data]    |   Unzipping corpora/wordnet_ic.zip.\n",
      "[nltk_data]    | Downloading package words to /root/nltk_data...\n",
      "[nltk_data]    |   Unzipping corpora/words.zip.\n",
      "[nltk_data]    | Downloading package ycoe to /root/nltk_data...\n",
      "[nltk_data]    |   Unzipping corpora/ycoe.zip.\n",
      "[nltk_data]    | \n",
      "[nltk_data]  Done downloading collection all\n"
     ]
    },
    {
     "output_type": "stream",
     "name": "stdout",
     "text": [
      "2023-08-23 07:39:09.714802: W tensorflow/compiler/tf2tensorrt/utils/py_utils.cc:38] TF-TRT Warning: Could not find TensorRT\n",
      "Collecting en-core-web-sm==3.6.0\n",
      "  Downloading https://github.com/explosion/spacy-models/releases/download/en_core_web_sm-3.6.0/en_core_web_sm-3.6.0-py3-none-any.whl (12.8 MB)\n",
      "\u001B[2K     \u001B[90m━━━━━━━━━━━━━━━━━━━━━━━━━━━━━━━━━━━━━━━━\u001B[0m \u001B[32m12.8/12.8 MB\u001B[0m \u001B[31m18.3 MB/s\u001B[0m eta \u001B[36m0:00:00\u001B[0m\n",
      "\u001B[?25hRequirement already satisfied: spacy<3.7.0,>=3.6.0 in /usr/local/lib/python3.10/dist-packages (from en-core-web-sm==3.6.0) (3.6.1)\n",
      "Requirement already satisfied: spacy-legacy<3.1.0,>=3.0.11 in /usr/local/lib/python3.10/dist-packages (from spacy<3.7.0,>=3.6.0->en-core-web-sm==3.6.0) (3.0.12)\n",
      "Requirement already satisfied: spacy-loggers<2.0.0,>=1.0.0 in /usr/local/lib/python3.10/dist-packages (from spacy<3.7.0,>=3.6.0->en-core-web-sm==3.6.0) (1.0.4)\n",
      "Requirement already satisfied: murmurhash<1.1.0,>=0.28.0 in /usr/local/lib/python3.10/dist-packages (from spacy<3.7.0,>=3.6.0->en-core-web-sm==3.6.0) (1.0.9)\n",
      "Requirement already satisfied: cymem<2.1.0,>=2.0.2 in /usr/local/lib/python3.10/dist-packages (from spacy<3.7.0,>=3.6.0->en-core-web-sm==3.6.0) (2.0.7)\n",
      "Requirement already satisfied: preshed<3.1.0,>=3.0.2 in /usr/local/lib/python3.10/dist-packages (from spacy<3.7.0,>=3.6.0->en-core-web-sm==3.6.0) (3.0.8)\n",
      "Requirement already satisfied: thinc<8.2.0,>=8.1.8 in /usr/local/lib/python3.10/dist-packages (from spacy<3.7.0,>=3.6.0->en-core-web-sm==3.6.0) (8.1.12)\n",
      "Requirement already satisfied: wasabi<1.2.0,>=0.9.1 in /usr/local/lib/python3.10/dist-packages (from spacy<3.7.0,>=3.6.0->en-core-web-sm==3.6.0) (1.1.2)\n",
      "Requirement already satisfied: srsly<3.0.0,>=2.4.3 in /usr/local/lib/python3.10/dist-packages (from spacy<3.7.0,>=3.6.0->en-core-web-sm==3.6.0) (2.4.7)\n",
      "Requirement already satisfied: catalogue<2.1.0,>=2.0.6 in /usr/local/lib/python3.10/dist-packages (from spacy<3.7.0,>=3.6.0->en-core-web-sm==3.6.0) (2.0.9)\n",
      "Requirement already satisfied: typer<0.10.0,>=0.3.0 in /usr/local/lib/python3.10/dist-packages (from spacy<3.7.0,>=3.6.0->en-core-web-sm==3.6.0) (0.9.0)\n",
      "Requirement already satisfied: pathy>=0.10.0 in /usr/local/lib/python3.10/dist-packages (from spacy<3.7.0,>=3.6.0->en-core-web-sm==3.6.0) (0.10.2)\n",
      "Requirement already satisfied: smart-open<7.0.0,>=5.2.1 in /usr/local/lib/python3.10/dist-packages (from spacy<3.7.0,>=3.6.0->en-core-web-sm==3.6.0) (6.3.0)\n",
      "Requirement already satisfied: tqdm<5.0.0,>=4.38.0 in /usr/local/lib/python3.10/dist-packages (from spacy<3.7.0,>=3.6.0->en-core-web-sm==3.6.0) (4.66.1)\n",
      "Requirement already satisfied: numpy>=1.15.0 in /usr/local/lib/python3.10/dist-packages (from spacy<3.7.0,>=3.6.0->en-core-web-sm==3.6.0) (1.23.5)\n",
      "Requirement already satisfied: requests<3.0.0,>=2.13.0 in /usr/local/lib/python3.10/dist-packages (from spacy<3.7.0,>=3.6.0->en-core-web-sm==3.6.0) (2.31.0)\n",
      "Requirement already satisfied: pydantic!=1.8,!=1.8.1,<3.0.0,>=1.7.4 in /usr/local/lib/python3.10/dist-packages (from spacy<3.7.0,>=3.6.0->en-core-web-sm==3.6.0) (2.2.0)\n",
      "Requirement already satisfied: jinja2 in /usr/local/lib/python3.10/dist-packages (from spacy<3.7.0,>=3.6.0->en-core-web-sm==3.6.0) (3.1.2)\n",
      "Requirement already satisfied: setuptools in /usr/local/lib/python3.10/dist-packages (from spacy<3.7.0,>=3.6.0->en-core-web-sm==3.6.0) (67.7.2)\n",
      "Requirement already satisfied: packaging>=20.0 in /usr/local/lib/python3.10/dist-packages (from spacy<3.7.0,>=3.6.0->en-core-web-sm==3.6.0) (23.1)\n",
      "Requirement already satisfied: langcodes<4.0.0,>=3.2.0 in /usr/local/lib/python3.10/dist-packages (from spacy<3.7.0,>=3.6.0->en-core-web-sm==3.6.0) (3.3.0)\n",
      "Requirement already satisfied: annotated-types>=0.4.0 in /usr/local/lib/python3.10/dist-packages (from pydantic!=1.8,!=1.8.1,<3.0.0,>=1.7.4->spacy<3.7.0,>=3.6.0->en-core-web-sm==3.6.0) (0.5.0)\n",
      "Requirement already satisfied: pydantic-core==2.6.0 in /usr/local/lib/python3.10/dist-packages (from pydantic!=1.8,!=1.8.1,<3.0.0,>=1.7.4->spacy<3.7.0,>=3.6.0->en-core-web-sm==3.6.0) (2.6.0)\n",
      "Requirement already satisfied: typing-extensions>=4.6.1 in /usr/local/lib/python3.10/dist-packages (from pydantic!=1.8,!=1.8.1,<3.0.0,>=1.7.4->spacy<3.7.0,>=3.6.0->en-core-web-sm==3.6.0) (4.7.1)\n",
      "Requirement already satisfied: charset-normalizer<4,>=2 in /usr/local/lib/python3.10/dist-packages (from requests<3.0.0,>=2.13.0->spacy<3.7.0,>=3.6.0->en-core-web-sm==3.6.0) (3.2.0)\n",
      "Requirement already satisfied: idna<4,>=2.5 in /usr/local/lib/python3.10/dist-packages (from requests<3.0.0,>=2.13.0->spacy<3.7.0,>=3.6.0->en-core-web-sm==3.6.0) (3.4)\n",
      "Requirement already satisfied: urllib3<3,>=1.21.1 in /usr/local/lib/python3.10/dist-packages (from requests<3.0.0,>=2.13.0->spacy<3.7.0,>=3.6.0->en-core-web-sm==3.6.0) (2.0.4)\n",
      "Requirement already satisfied: certifi>=2017.4.17 in /usr/local/lib/python3.10/dist-packages (from requests<3.0.0,>=2.13.0->spacy<3.7.0,>=3.6.0->en-core-web-sm==3.6.0) (2023.7.22)\n",
      "Requirement already satisfied: blis<0.8.0,>=0.7.8 in /usr/local/lib/python3.10/dist-packages (from thinc<8.2.0,>=8.1.8->spacy<3.7.0,>=3.6.0->en-core-web-sm==3.6.0) (0.7.10)\n",
      "Requirement already satisfied: confection<1.0.0,>=0.0.1 in /usr/local/lib/python3.10/dist-packages (from thinc<8.2.0,>=8.1.8->spacy<3.7.0,>=3.6.0->en-core-web-sm==3.6.0) (0.1.1)\n",
      "Requirement already satisfied: click<9.0.0,>=7.1.1 in /usr/local/lib/python3.10/dist-packages (from typer<0.10.0,>=0.3.0->spacy<3.7.0,>=3.6.0->en-core-web-sm==3.6.0) (8.1.7)\n",
      "Requirement already satisfied: MarkupSafe>=2.0 in /usr/local/lib/python3.10/dist-packages (from jinja2->spacy<3.7.0,>=3.6.0->en-core-web-sm==3.6.0) (2.1.3)\n",
      "\u001B[38;5;2m✔ Download and installation successful\u001B[0m\n",
      "You can now load the package via spacy.load('en_core_web_sm')\n"
     ]
    }
   ]
  },
  {
   "cell_type": "markdown",
   "source": [
    "#Import Tensorflow Libraries"
   ],
   "metadata": {
    "id": "9ozPj74lVtdI"
   }
  },
  {
   "cell_type": "code",
   "execution_count": 4,
   "metadata": {
    "id": "5bqYszevQsv4",
    "ExecuteTime": {
     "end_time": "2023-08-23T08:11:24.246157Z",
     "start_time": "2023-08-23T08:11:24.243165Z"
    }
   },
   "outputs": [],
   "source": [
    "import tensorflow as tf\n",
    "from tensorflow.keras.preprocessing.text import Tokenizer\n",
    "from tensorflow.keras.preprocessing.sequence import pad_sequences\n",
    "from tensorflow.keras.preprocessing import sequence\n",
    "from tensorflow.keras.layers import Embedding, LSTM, Dense, Dropout\n",
    "from tensorflow.keras.optimizers import AdamW\n",
    "from tensorflow.keras.utils import to_categorical"
   ]
  },
  {
   "cell_type": "markdown",
   "source": [
    "#Import Other Libraries"
   ],
   "metadata": {
    "id": "2pizdu_9Vyew"
   }
  },
  {
   "cell_type": "code",
   "source": [
    "import pandas as pd\n",
    "import numpy as np\n",
    "import matplotlib.pyplot as plt\n",
    "import seaborn as sns\n",
    "from sklearn.model_selection import train_test_split\n",
    "from sklearn.preprocessing import LabelEncoder"
   ],
   "metadata": {
    "id": "WwkNJ15URpNL",
    "ExecuteTime": {
     "end_time": "2023-08-23T08:11:26.376060Z",
     "start_time": "2023-08-23T08:11:26.360962Z"
    }
   },
   "execution_count": 5,
   "outputs": []
  },
  {
   "cell_type": "markdown",
   "source": [
    "#Get Data"
   ],
   "metadata": {
    "id": "2nX16g-KV1sx"
   }
  },
  {
   "cell_type": "code",
   "source": [
    "data = pd.read_csv(\"ecommerceDataset.csv\",names=['Labels','Description'])\n",
    "data.head()"
   ],
   "metadata": {
    "colab": {
     "base_uri": "https://localhost:8080/",
     "height": 298
    },
    "id": "YlO5qLs2ShPY",
    "outputId": "4ab66a3c-bcf7-44b4-b69b-ed1d1a11f310",
    "ExecuteTime": {
     "end_time": "2023-08-23T08:12:27.508798Z",
     "start_time": "2023-08-23T08:12:27.277677Z"
    }
   },
   "execution_count": 7,
   "outputs": [
    {
     "data": {
      "text/plain": "      Labels                                        Description\n0  Household  Paper Plane Design Framed Wall Hanging Motivat...\n1  Household  SAF 'Floral' Framed Painting (Wood, 30 inch x ...\n2  Household  SAF 'UV Textured Modern Art Print Framed' Pain...\n3  Household  SAF Flower Print Framed Painting (Synthetic, 1...\n4  Household  Incredible Gifts India Wooden Happy Birthday U...",
      "text/html": "<div>\n<style scoped>\n    .dataframe tbody tr th:only-of-type {\n        vertical-align: middle;\n    }\n\n    .dataframe tbody tr th {\n        vertical-align: top;\n    }\n\n    .dataframe thead th {\n        text-align: right;\n    }\n</style>\n<table border=\"1\" class=\"dataframe\">\n  <thead>\n    <tr style=\"text-align: right;\">\n      <th></th>\n      <th>Labels</th>\n      <th>Description</th>\n    </tr>\n  </thead>\n  <tbody>\n    <tr>\n      <th>0</th>\n      <td>Household</td>\n      <td>Paper Plane Design Framed Wall Hanging Motivat...</td>\n    </tr>\n    <tr>\n      <th>1</th>\n      <td>Household</td>\n      <td>SAF 'Floral' Framed Painting (Wood, 30 inch x ...</td>\n    </tr>\n    <tr>\n      <th>2</th>\n      <td>Household</td>\n      <td>SAF 'UV Textured Modern Art Print Framed' Pain...</td>\n    </tr>\n    <tr>\n      <th>3</th>\n      <td>Household</td>\n      <td>SAF Flower Print Framed Painting (Synthetic, 1...</td>\n    </tr>\n    <tr>\n      <th>4</th>\n      <td>Household</td>\n      <td>Incredible Gifts India Wooden Happy Birthday U...</td>\n    </tr>\n  </tbody>\n</table>\n</div>"
     },
     "execution_count": 7,
     "metadata": {},
     "output_type": "execute_result"
    }
   ]
  },
  {
   "cell_type": "markdown",
   "source": [
    "#Text Pre-processing\n"
   ],
   "metadata": {
    "id": "HjztQjbbWAPn"
   }
  },
  {
   "cell_type": "code",
   "source": [
    "len(data)"
   ],
   "metadata": {
    "colab": {
     "base_uri": "https://localhost:8080/"
    },
    "id": "SYqjNIniWWWJ",
    "outputId": "a53ee606-a1d5-4f21-d3fe-167e48540240",
    "ExecuteTime": {
     "end_time": "2023-08-23T08:12:31.607764Z",
     "start_time": "2023-08-23T08:12:31.602785Z"
    }
   },
   "execution_count": 8,
   "outputs": [
    {
     "data": {
      "text/plain": "50425"
     },
     "execution_count": 8,
     "metadata": {},
     "output_type": "execute_result"
    }
   ]
  },
  {
   "cell_type": "code",
   "source": [
    "data.dropna(inplace = True)\n",
    "data.drop_duplicates(inplace = True)\n",
    "data.reset_index(drop = True, inplace = True)"
   ],
   "metadata": {
    "id": "rB8rnLkmWHO5",
    "ExecuteTime": {
     "end_time": "2023-08-23T08:12:32.523127Z",
     "start_time": "2023-08-23T08:12:32.428197Z"
    }
   },
   "execution_count": 9,
   "outputs": []
  },
  {
   "cell_type": "code",
   "source": [
    "len(data)"
   ],
   "metadata": {
    "colab": {
     "base_uri": "https://localhost:8080/"
    },
    "id": "gjR5_DpoWaKl",
    "outputId": "3736f4ef-a007-459c-9042-c902aab745da",
    "ExecuteTime": {
     "end_time": "2023-08-23T08:12:33.010607Z",
     "start_time": "2023-08-23T08:12:33.004591Z"
    }
   },
   "execution_count": 10,
   "outputs": [
    {
     "data": {
      "text/plain": "27802"
     },
     "execution_count": 10,
     "metadata": {},
     "output_type": "execute_result"
    }
   ]
  },
  {
   "cell_type": "markdown",
   "source": [
    "#Text Cleaning"
   ],
   "metadata": {
    "id": "JvoAPqKPYQOJ"
   }
  },
  {
   "cell_type": "code",
   "source": [
    "#Regular Expression\n",
    "regexp = RegexpTokenizer(\"[\\w']+\")"
   ],
   "metadata": {
    "id": "H5yfKZ6mWbVm",
    "ExecuteTime": {
     "end_time": "2023-08-23T08:12:34.711740Z",
     "start_time": "2023-08-23T08:12:34.700954Z"
    }
   },
   "execution_count": 11,
   "outputs": []
  },
  {
   "cell_type": "code",
   "source": [
    "#Lowercase\n",
    "def text_lower(text):\n",
    "  text = text.lower()\n",
    "  return text"
   ],
   "metadata": {
    "id": "WHlresxFZE-R",
    "ExecuteTime": {
     "end_time": "2023-08-23T08:12:35.184273Z",
     "start_time": "2023-08-23T08:12:35.180323Z"
    }
   },
   "execution_count": 12,
   "outputs": []
  },
  {
   "cell_type": "code",
   "source": [
    "#Remove Whitespace\n",
    "def remove_whitespace(text):\n",
    "  text = text.strip()\n",
    "  return text"
   ],
   "metadata": {
    "id": "Yoxv5KtIZSjH",
    "ExecuteTime": {
     "end_time": "2023-08-23T08:12:35.584258Z",
     "start_time": "2023-08-23T08:12:35.578476Z"
    }
   },
   "execution_count": 13,
   "outputs": []
  },
  {
   "cell_type": "code",
   "source": [
    "#Remove Punctuation\n",
    "def remove_punctuation(text):\n",
    "  punct = string.punctuation\n",
    "  punct = punct.replace(\"'\",\"\")\n",
    "  text = text.translate(str.maketrans(\"\", \"\",punct))\n",
    "  return text"
   ],
   "metadata": {
    "id": "52Fco_ORZjmA",
    "ExecuteTime": {
     "end_time": "2023-08-23T08:12:36.052860Z",
     "start_time": "2023-08-23T08:12:36.047337Z"
    }
   },
   "execution_count": 14,
   "outputs": []
  },
  {
   "cell_type": "code",
   "source": [
    "#Remove HTML\n",
    "def remove_html(text):\n",
    "  html = re.compile(r'<.*?>')\n",
    "  text = html.sub(r'',text)\n",
    "  return text"
   ],
   "metadata": {
    "id": "v4GHMdrYa2bU",
    "ExecuteTime": {
     "end_time": "2023-08-23T08:12:36.504018Z",
     "start_time": "2023-08-23T08:12:36.497876Z"
    }
   },
   "execution_count": 15,
   "outputs": []
  },
  {
   "cell_type": "code",
   "source": [
    "# Removing emojis\n",
    "def remove_emoji(text):\n",
    "  emoji_pattern = re.compile(\"[\"\n",
    "    u\"\\U0001F600-\\U0001F64F\"  # emoticons\n",
    "    u\"\\U0001F300-\\U0001F5FF\"  # symbols & pictographs\n",
    "    u\"\\U0001F680-\\U0001F6FF\"  # transport & map symbols\n",
    "    u\"\\U0001F1E0-\\U0001F1FF\"  # flags\n",
    "    u\"\\U00002702-\\U000027B0\"\n",
    "    u\"\\U000024C2-\\U0001F251\"\n",
    "    \"]+\",flags=re.UNICODE\n",
    "  )\n",
    "  text = emoji_pattern.sub(r'',text)\n",
    "  return text"
   ],
   "metadata": {
    "id": "k-8K5GxtbZXq",
    "ExecuteTime": {
     "end_time": "2023-08-23T08:12:37.491178Z",
     "start_time": "2023-08-23T08:12:37.487563Z"
    }
   },
   "execution_count": 16,
   "outputs": []
  },
  {
   "cell_type": "code",
   "source": [
    "#Remove URLS\n",
    "def remove_http_links(text):\n",
    "  text = re.sub('http://\\S+|https://\\S+','',text)\n",
    "  return text"
   ],
   "metadata": {
    "id": "30S_PcR2cpeD",
    "ExecuteTime": {
     "end_time": "2023-08-23T08:12:38.658568Z",
     "start_time": "2023-08-23T08:12:38.648351Z"
    }
   },
   "execution_count": 17,
   "outputs": []
  },
  {
   "cell_type": "code",
   "source": [
    "#Convert Abbreviated Words\n",
    "abbrev = pd.read_csv(\"abbrevations.csv\",names=['SMF','FF'])\n",
    "abbrev.head()"
   ],
   "metadata": {
    "colab": {
     "base_uri": "https://localhost:8080/",
     "height": 206
    },
    "id": "ytueJefydsFQ",
    "outputId": "28a2521b-f568-48f9-aeeb-086fbee619e4",
    "ExecuteTime": {
     "end_time": "2023-08-23T08:16:01.994809Z",
     "start_time": "2023-08-23T08:16:01.987194Z"
    }
   },
   "execution_count": 19,
   "outputs": [
    {
     "data": {
      "text/plain": "   SMF                                FF\n0    ?                 I have a question\n1    ?  I don’t understand what you mean\n2  ?4U         I have a question for you\n3   ;S          GeHmm? What did you say?\n4   ^^                      read message",
      "text/html": "<div>\n<style scoped>\n    .dataframe tbody tr th:only-of-type {\n        vertical-align: middle;\n    }\n\n    .dataframe tbody tr th {\n        vertical-align: top;\n    }\n\n    .dataframe thead th {\n        text-align: right;\n    }\n</style>\n<table border=\"1\" class=\"dataframe\">\n  <thead>\n    <tr style=\"text-align: right;\">\n      <th></th>\n      <th>SMF</th>\n      <th>FF</th>\n    </tr>\n  </thead>\n  <tbody>\n    <tr>\n      <th>0</th>\n      <td>?</td>\n      <td>I have a question</td>\n    </tr>\n    <tr>\n      <th>1</th>\n      <td>?</td>\n      <td>I don’t understand what you mean</td>\n    </tr>\n    <tr>\n      <th>2</th>\n      <td>?4U</td>\n      <td>I have a question for you</td>\n    </tr>\n    <tr>\n      <th>3</th>\n      <td>;S</td>\n      <td>GeHmm? What did you say?</td>\n    </tr>\n    <tr>\n      <th>4</th>\n      <td>^^</td>\n      <td>read message</td>\n    </tr>\n  </tbody>\n</table>\n</div>"
     },
     "execution_count": 19,
     "metadata": {},
     "output_type": "execute_result"
    }
   ]
  },
  {
   "cell_type": "code",
   "source": [
    "abbrev_lower = pd.DataFrame()\n",
    "abbrev_lower['SMF'] = abbrev['SMF'].apply(text_lower)\n",
    "abbrev_lower['FF'] = abbrev['FF'].apply(text_lower)\n",
    "abbrev_dict = dict(zip(list(abbrev_lower.SMF), list(abbrev_lower.FF)))\n",
    "abbrev_words = list(abbrev_dict.keys())"
   ],
   "metadata": {
    "id": "rk_STiJniWBl",
    "ExecuteTime": {
     "end_time": "2023-08-23T08:16:03.412814Z",
     "start_time": "2023-08-23T08:16:03.402568Z"
    }
   },
   "execution_count": 20,
   "outputs": []
  },
  {
   "cell_type": "code",
   "source": [
    "def convert_abbrev(text):\n",
    "  words = []\n",
    "  for word in regexp.tokenize(text):\n",
    "    if word in abbrev_words:\n",
    "      words = words + abbrev_dict[word].split()\n",
    "    else:\n",
    "      words = words + word.split()\n",
    "\n",
    "  text_converted = \" \".join(words)\n",
    "\n",
    "  return text_converted"
   ],
   "metadata": {
    "id": "OYZ2wcsCnPU-",
    "ExecuteTime": {
     "end_time": "2023-08-23T08:16:04.077935Z",
     "start_time": "2023-08-23T08:16:04.074448Z"
    }
   },
   "execution_count": 21,
   "outputs": []
  },
  {
   "cell_type": "code",
   "source": [
    "#Convert Contractions like you're\n",
    "def convert_contractions(text):\n",
    "  text = contractions.fix(text)\n",
    "  return text"
   ],
   "metadata": {
    "id": "B9PCWfIuoQab",
    "ExecuteTime": {
     "end_time": "2023-08-23T08:16:04.580782Z",
     "start_time": "2023-08-23T08:16:04.578554Z"
    }
   },
   "execution_count": 22,
   "outputs": []
  },
  {
   "cell_type": "code",
   "source": [
    "#Remove Stopwords\n",
    "def remove_stopwords(text):\n",
    "  text = \" \".join([word for word in nltk.tokenize.word_tokenize(text) if word not in stopwords.words('english')])\n",
    "  return text"
   ],
   "metadata": {
    "id": "wqCRncJZrmjP",
    "ExecuteTime": {
     "end_time": "2023-08-23T08:16:05.132908Z",
     "start_time": "2023-08-23T08:16:05.129652Z"
    }
   },
   "execution_count": 23,
   "outputs": []
  },
  {
   "cell_type": "code",
   "source": [
    "#Lemmatization\n",
    "\n",
    "# Lemmatization\n",
    "nlp = spacy.load(\"en_core_web_lg\", disable = ['parser', 'ner'])\n",
    "\n",
    "def lemmatize(text):\n",
    "  text = \" \".join([token.lemma_ for token in nlp(text)])\n",
    "  return text"
   ],
   "metadata": {
    "id": "zLIzW2bEslKQ",
    "ExecuteTime": {
     "end_time": "2023-08-23T08:16:13.188173Z",
     "start_time": "2023-08-23T08:16:12.240438Z"
    }
   },
   "execution_count": 25,
   "outputs": []
  },
  {
   "cell_type": "code",
   "source": [
    "#Remove Non-Alphabetic Characters\n",
    "def discard_non_alpha(text):\n",
    "  word_list_non_alpha = [word for word in regexp.tokenize(text) if word.isalpha()]\n",
    "  text = \" \".join(word_list_non_alpha)\n",
    "  return text"
   ],
   "metadata": {
    "id": "oXEKFjqBtjQh",
    "ExecuteTime": {
     "end_time": "2023-08-23T08:16:14.996656Z",
     "start_time": "2023-08-23T08:16:14.985998Z"
    }
   },
   "execution_count": 26,
   "outputs": []
  },
  {
   "cell_type": "code",
   "source": [
    "#Aggregating All definitions\n",
    "\n",
    "def text_clean(text):\n",
    "  text = text_lower(text)\n",
    "  text = remove_whitespace(text)\n",
    "  text = re.sub('\\n' , '', text)\n",
    "  text = re.sub('\\[.*?\\]', '', text)\n",
    "  text = remove_http_links(text)\n",
    "  text = remove_punctuation(text)\n",
    "  text = remove_html(text)\n",
    "  text = remove_emoji(text)\n",
    "  text = convert_abbrev(text)\n",
    "  text = convert_contractions(text)\n",
    "  text = remove_stopwords(text)\n",
    "  text = discard_non_alpha(text)\n",
    "  text = lemmatize(text)\n",
    "\n",
    "  return text"
   ],
   "metadata": {
    "id": "ZnmddQ39t8ds",
    "ExecuteTime": {
     "end_time": "2023-08-23T08:16:15.863029Z",
     "start_time": "2023-08-23T08:16:15.856555Z"
    }
   },
   "execution_count": 27,
   "outputs": []
  },
  {
   "cell_type": "code",
   "source": [
    "# Apply on Dataset\n",
    "data['Description_Clean'] = data['Description'].apply(text_clean)\n",
    "data.head()"
   ],
   "metadata": {
    "id": "CHBoY1H8ve6j",
    "ExecuteTime": {
     "end_time": "2023-08-23T08:21:17.666879Z",
     "start_time": "2023-08-23T08:16:17.451984Z"
    }
   },
   "execution_count": 28,
   "outputs": [
    {
     "data": {
      "text/plain": "      Labels                                        Description  \\\n0  Household  Paper Plane Design Framed Wall Hanging Motivat...   \n1  Household  SAF 'Floral' Framed Painting (Wood, 30 inch x ...   \n2  Household  SAF 'UV Textured Modern Art Print Framed' Pain...   \n3  Household  SAF Flower Print Framed Painting (Synthetic, 1...   \n4  Household  Incredible Gifts India Wooden Happy Birthday U...   \n\n                                   Description_Clean  \n0  paper plane design frame wall hang motivationa...  \n1  saf frame paint wood inch kiss inch special ef...  \n2  saf textured modern art print frame paint synt...  \n3  saf flower print frame paint synthetic inch ki...  \n4  incredible gift india wooden happy birthday un...  ",
      "text/html": "<div>\n<style scoped>\n    .dataframe tbody tr th:only-of-type {\n        vertical-align: middle;\n    }\n\n    .dataframe tbody tr th {\n        vertical-align: top;\n    }\n\n    .dataframe thead th {\n        text-align: right;\n    }\n</style>\n<table border=\"1\" class=\"dataframe\">\n  <thead>\n    <tr style=\"text-align: right;\">\n      <th></th>\n      <th>Labels</th>\n      <th>Description</th>\n      <th>Description_Clean</th>\n    </tr>\n  </thead>\n  <tbody>\n    <tr>\n      <th>0</th>\n      <td>Household</td>\n      <td>Paper Plane Design Framed Wall Hanging Motivat...</td>\n      <td>paper plane design frame wall hang motivationa...</td>\n    </tr>\n    <tr>\n      <th>1</th>\n      <td>Household</td>\n      <td>SAF 'Floral' Framed Painting (Wood, 30 inch x ...</td>\n      <td>saf frame paint wood inch kiss inch special ef...</td>\n    </tr>\n    <tr>\n      <th>2</th>\n      <td>Household</td>\n      <td>SAF 'UV Textured Modern Art Print Framed' Pain...</td>\n      <td>saf textured modern art print frame paint synt...</td>\n    </tr>\n    <tr>\n      <th>3</th>\n      <td>Household</td>\n      <td>SAF Flower Print Framed Painting (Synthetic, 1...</td>\n      <td>saf flower print frame paint synthetic inch ki...</td>\n    </tr>\n    <tr>\n      <th>4</th>\n      <td>Household</td>\n      <td>Incredible Gifts India Wooden Happy Birthday U...</td>\n      <td>incredible gift india wooden happy birthday un...</td>\n    </tr>\n  </tbody>\n</table>\n</div>"
     },
     "execution_count": 28,
     "metadata": {},
     "output_type": "execute_result"
    }
   ]
  },
  {
   "cell_type": "markdown",
   "source": [
    "#Label Encoding"
   ],
   "metadata": {
    "id": "6Fpx1EWV11pS"
   }
  },
  {
   "cell_type": "code",
   "source": [
    "le = LabelEncoder()\n",
    "data['Encoded_Labels'] = le.fit_transform(data['Labels'])\n",
    "#label = data['Encoded_Labels'].unique()\n",
    "inv_labels = le.inverse_transform([0,1,2,3])\n",
    "label_len = len(le.classes_)\n",
    "data.head()"
   ],
   "metadata": {
    "colab": {
     "base_uri": "https://localhost:8080/"
    },
    "id": "J0nqSM1xv3td",
    "outputId": "88f5938b-f279-4dea-aedb-9bc0b628cc10",
    "ExecuteTime": {
     "end_time": "2023-08-23T08:22:05.117820Z",
     "start_time": "2023-08-23T08:22:05.115116Z"
    }
   },
   "execution_count": 30,
   "outputs": [
    {
     "data": {
      "text/plain": "      Labels                                        Description  \\\n0  Household  Paper Plane Design Framed Wall Hanging Motivat...   \n1  Household  SAF 'Floral' Framed Painting (Wood, 30 inch x ...   \n2  Household  SAF 'UV Textured Modern Art Print Framed' Pain...   \n3  Household  SAF Flower Print Framed Painting (Synthetic, 1...   \n4  Household  Incredible Gifts India Wooden Happy Birthday U...   \n\n                                   Description_Clean  Encoded_Labels  \n0  paper plane design frame wall hang motivationa...               3  \n1  saf frame paint wood inch kiss inch special ef...               3  \n2  saf textured modern art print frame paint synt...               3  \n3  saf flower print frame paint synthetic inch ki...               3  \n4  incredible gift india wooden happy birthday un...               3  ",
      "text/html": "<div>\n<style scoped>\n    .dataframe tbody tr th:only-of-type {\n        vertical-align: middle;\n    }\n\n    .dataframe tbody tr th {\n        vertical-align: top;\n    }\n\n    .dataframe thead th {\n        text-align: right;\n    }\n</style>\n<table border=\"1\" class=\"dataframe\">\n  <thead>\n    <tr style=\"text-align: right;\">\n      <th></th>\n      <th>Labels</th>\n      <th>Description</th>\n      <th>Description_Clean</th>\n      <th>Encoded_Labels</th>\n    </tr>\n  </thead>\n  <tbody>\n    <tr>\n      <th>0</th>\n      <td>Household</td>\n      <td>Paper Plane Design Framed Wall Hanging Motivat...</td>\n      <td>paper plane design frame wall hang motivationa...</td>\n      <td>3</td>\n    </tr>\n    <tr>\n      <th>1</th>\n      <td>Household</td>\n      <td>SAF 'Floral' Framed Painting (Wood, 30 inch x ...</td>\n      <td>saf frame paint wood inch kiss inch special ef...</td>\n      <td>3</td>\n    </tr>\n    <tr>\n      <th>2</th>\n      <td>Household</td>\n      <td>SAF 'UV Textured Modern Art Print Framed' Pain...</td>\n      <td>saf textured modern art print frame paint synt...</td>\n      <td>3</td>\n    </tr>\n    <tr>\n      <th>3</th>\n      <td>Household</td>\n      <td>SAF Flower Print Framed Painting (Synthetic, 1...</td>\n      <td>saf flower print frame paint synthetic inch ki...</td>\n      <td>3</td>\n    </tr>\n    <tr>\n      <th>4</th>\n      <td>Household</td>\n      <td>Incredible Gifts India Wooden Happy Birthday U...</td>\n      <td>incredible gift india wooden happy birthday un...</td>\n      <td>3</td>\n    </tr>\n  </tbody>\n</table>\n</div>"
     },
     "execution_count": 30,
     "metadata": {},
     "output_type": "execute_result"
    }
   ]
  },
  {
   "cell_type": "markdown",
   "source": [
    "#Data Splitting"
   ],
   "metadata": {
    "id": "ajtPaUbU16g-"
   }
  },
  {
   "cell_type": "code",
   "source": [
    "X_train, X_test, y_train, y_test = train_test_split(data['Description_Clean'],data['Encoded_Labels'],stratify=None,random_state=2)\n",
    "\n",
    "X_train = np.array(X_train)\n",
    "X_test = np.array(X_test)\n",
    "y_train = np.array(y_train,dtype=np.float32)\n",
    "y_test = np.array(y_test,dtype=np.float32)"
   ],
   "metadata": {
    "id": "SI7HuOY815Lg",
    "ExecuteTime": {
     "end_time": "2023-08-23T08:25:08.893335Z",
     "start_time": "2023-08-23T08:25:08.886435Z"
    }
   },
   "execution_count": 33,
   "outputs": []
  },
  {
   "cell_type": "markdown",
   "source": [
    "#LSTM INPUT\n",
    "\n",
    "**batch_size:** The number of sequences you feed into the model at once. It's a hyperparameter that you specify when training and represents the number of samples that are processed in parallel during each training iteration. For example, if your batch size is 32, then you'll process 32 sequences at a time.\n",
    "\n",
    "**sequence_length:** The length of each input sequence. This value is determined by the padding you applied to make all sequences the same length. If your maximum sequence length is, for instance, 50 (meaning all sequences are padded/truncated to 50 tokens), then sequence_length would be 50.\n",
    "\n",
    "**embedding_dim:** The dimensionality of the word embeddings used to represent each token in the sequence. This is the length of the dense vectors used to represent words. It's a hyperparameter that you set based on your problem and the size of your dataset. For instance, you might choose an embedding_dim of 100 or 300"
   ],
   "metadata": {
    "id": "66gA4LMTl-_4"
   }
  },
  {
   "cell_type": "markdown",
   "source": [
    "#Processing Data for DL"
   ],
   "metadata": {
    "id": "GkHM0fSk2ph7"
   }
  },
  {
   "cell_type": "code",
   "source": [
    "batch_size = 64\n",
    "max_words = 10000\n",
    "max_len = 200\n",
    "embedding_dim = 100\n",
    "lstm_units = 64"
   ],
   "metadata": {
    "id": "uBTma0WO1iYY",
    "ExecuteTime": {
     "end_time": "2023-08-23T08:25:17.752336Z",
     "start_time": "2023-08-23T08:25:17.748618Z"
    }
   },
   "execution_count": 34,
   "outputs": []
  },
  {
   "cell_type": "code",
   "source": [
    "tok = Tokenizer(num_words=max_words)\n",
    "tok.fit_on_texts(X_train)\n",
    "seqs = tok.texts_to_sequences(X_train)\n",
    "test_seqs = tok.texts_to_sequences(X_test)\n",
    "seq_matrix = sequence.pad_sequences(seqs,max_len)\n",
    "test_seq_matrix = sequence.pad_sequences(test_seqs,max_len)"
   ],
   "metadata": {
    "id": "Yu5MVdMHL9yh",
    "ExecuteTime": {
     "end_time": "2023-08-23T08:25:19.367397Z",
     "start_time": "2023-08-23T08:25:18.452291Z"
    }
   },
   "execution_count": 35,
   "outputs": []
  },
  {
   "cell_type": "code",
   "source": [
    "seq_matrix[0]"
   ],
   "metadata": {
    "id": "7BtfGN_l36cB",
    "colab": {
     "base_uri": "https://localhost:8080/"
    },
    "outputId": "dc899d75-cbf5-48b7-a941-9a1de4b9d899",
    "ExecuteTime": {
     "end_time": "2023-08-23T08:25:21.014390Z",
     "start_time": "2023-08-23T08:25:21.004932Z"
    }
   },
   "execution_count": 36,
   "outputs": [
    {
     "data": {
      "text/plain": "array([   0,    0,    0,    0,    0,    0,    0,    0,    0,    0,    0,\n          0,    0,    0,    0,    0,    0,    0,    0,    0,    0,    0,\n          0,    0,    0,    0,    0,    0,    0,    0,    0,    0,    0,\n          0,    0,    0,    0,    0,    0,    0,    0,    0,    0,    0,\n          0,    0,    0,    0,    0,    0,    0,    0,    0,    0,    0,\n          0,    0,    0,    0,    0,    0,    0,    0,    0,    0,    0,\n          0,    0,    0,    0,    0,    0,    0,    0,    0,    0,    0,\n          0,    0,    0,    0,    0,    0,    0,    0,    0,    0,    0,\n          0,    0,    0,    0,    0,    0,    0,    0,    0,    0,    0,\n          0,    0,    0,    0,    0,    0,    0,    0,    0,    0,    0,\n          0,    0,    0,    0,    0,    0,    0,    0,    0,    0,    0,\n          0,    0,    0,    0,    0,    0,    0,    0,    0,    0,    0,\n          0,    0,    0,    0,    0,    0,    0,    0,    0,    0,    0,\n          0,    0,    0,    0,    0,    0,    0,    0,    0,    0,    0,\n          0,    0,    0,    0,    0,    0,    0,    0,    0,    0,    0,\n          0,    0,    0,    0,    0,    0, 6100,    1, 1602,   21,  372,\n        294,    8,  543,  159,   58,   63, 2753,  276, 1462, 1942, 5557,\n          8,  874, 5020, 3859, 4557,    8,  159, 1299, 2405,    8, 2545,\n       1328,  159], dtype=int32)"
     },
     "execution_count": 36,
     "metadata": {},
     "output_type": "execute_result"
    }
   ]
  },
  {
   "cell_type": "markdown",
   "source": [
    "#LSTM Model"
   ],
   "metadata": {
    "id": "jqGx7dk4LMff"
   }
  },
  {
   "cell_type": "code",
   "source": [
    "def LSTM_Model(words,len,dim,units,num_labels):\n",
    "  model = tf.keras.Sequential()\n",
    "  model.add(Embedding(input_dim=words, output_dim=dim ,input_length=len))\n",
    "  model.add(LSTM(units=units, dropout=0.2, recurrent_dropout=0.2))\n",
    "  model.add(Dense(num_labels, activation='softmax'))\n",
    "\n",
    "  model.compile(optimizer='adam',\n",
    "                loss='sparse_categorical_crossentropy',\n",
    "                metrics=['accuracy'])\n",
    "\n",
    "  return model"
   ],
   "metadata": {
    "id": "aWPh8plKLOnp",
    "ExecuteTime": {
     "end_time": "2023-08-23T08:28:07.998268Z",
     "start_time": "2023-08-23T08:28:07.992255Z"
    }
   },
   "execution_count": 41,
   "outputs": []
  },
  {
   "cell_type": "code",
   "source": [
    "model = LSTM_Model(max_words,max_len,embedding_dim,lstm_units,label_len)"
   ],
   "metadata": {
    "id": "ZThiWRIYRJK_",
    "ExecuteTime": {
     "end_time": "2023-08-23T08:28:09.160589Z",
     "start_time": "2023-08-23T08:28:09.088883Z"
    }
   },
   "execution_count": 42,
   "outputs": []
  },
  {
   "cell_type": "code",
   "source": [
    "model.summary()"
   ],
   "metadata": {
    "colab": {
     "base_uri": "https://localhost:8080/"
    },
    "id": "jo8i391lSzOn",
    "outputId": "34491269-f047-4a64-eca9-c70f36587452",
    "ExecuteTime": {
     "end_time": "2023-08-23T08:28:13.905151Z",
     "start_time": "2023-08-23T08:28:13.893252Z"
    }
   },
   "execution_count": 43,
   "outputs": [
    {
     "name": "stdout",
     "output_type": "stream",
     "text": [
      "Model: \"sequential_2\"\n",
      "_________________________________________________________________\n",
      " Layer (type)                Output Shape              Param #   \n",
      "=================================================================\n",
      " embedding (Embedding)       (None, 200, 100)          1000000   \n",
      "                                                                 \n",
      " lstm (LSTM)                 (None, 64)                42240     \n",
      "                                                                 \n",
      " dense (Dense)               (None, 4)                 260       \n",
      "                                                                 \n",
      "=================================================================\n",
      "Total params: 1042500 (3.98 MB)\n",
      "Trainable params: 1042500 (3.98 MB)\n",
      "Non-trainable params: 0 (0.00 Byte)\n",
      "_________________________________________________________________\n"
     ]
    }
   ]
  },
  {
   "cell_type": "markdown",
   "source": [
    "#Train Model"
   ],
   "metadata": {
    "id": "Ai-FscIfRie8"
   }
  },
  {
   "cell_type": "code",
   "source": [
    "model.fit(seq_matrix,y_train,epochs=1,batch_size=batch_size,validation_split=0.2)"
   ],
   "metadata": {
    "colab": {
     "base_uri": "https://localhost:8080/"
    },
    "id": "XRycvQdkRal3",
    "outputId": "863a4188-1514-42a1-9908-faae81200e04",
    "ExecuteTime": {
     "end_time": "2023-08-23T08:29:32.634320Z",
     "start_time": "2023-08-23T08:28:48.698869Z"
    }
   },
   "execution_count": 45,
   "outputs": [
    {
     "name": "stdout",
     "output_type": "stream",
     "text": [
      "261/261 [==============================] - 44s 165ms/step - loss: 0.5267 - accuracy: 0.8173 - val_loss: 0.2625 - val_accuracy: 0.9310\n"
     ]
    },
    {
     "data": {
      "text/plain": "<keras.src.callbacks.History at 0x2f23fb290>"
     },
     "execution_count": 45,
     "metadata": {},
     "output_type": "execute_result"
    }
   ]
  },
  {
   "cell_type": "markdown",
   "source": [
    "#Test Model"
   ],
   "metadata": {
    "id": "n8MD-pDsmbxH"
   }
  },
  {
   "cell_type": "code",
   "source": [
    "prediction = model.predict(test_seq_matrix)"
   ],
   "metadata": {
    "colab": {
     "base_uri": "https://localhost:8080/"
    },
    "id": "caB1gbvkRz6R",
    "outputId": "59f7307b-1089-412f-e14f-81b3db044415",
    "ExecuteTime": {
     "end_time": "2023-08-23T08:30:29.473052Z",
     "start_time": "2023-08-23T08:30:26.172944Z"
    }
   },
   "execution_count": 46,
   "outputs": [
    {
     "name": "stdout",
     "output_type": "stream",
     "text": [
      "218/218 [==============================] - 3s 15ms/step\n"
     ]
    }
   ]
  },
  {
   "cell_type": "code",
   "source": [
    "from sklearn.metrics import confusion_matrix, classification_report\n",
    "\n",
    "print(classification_report(y_test,np.argmax(prediction,axis=1),target_names=inv_labels))"
   ],
   "metadata": {
    "colab": {
     "base_uri": "https://localhost:8080/"
    },
    "id": "XuND7NKbf1mH",
    "outputId": "8e267c64-7d5d-4b38-bcd7-86747ef878d3",
    "ExecuteTime": {
     "end_time": "2023-08-23T08:30:57.288906Z",
     "start_time": "2023-08-23T08:30:57.272920Z"
    }
   },
   "execution_count": 48,
   "outputs": [
    {
     "name": "stdout",
     "output_type": "stream",
     "text": [
      "                        precision    recall  f1-score   support\n",
      "\n",
      "                 Books       0.91      0.94      0.92      1559\n",
      "Clothing & Accessories       0.98      0.94      0.96      1421\n",
      "           Electronics       0.90      0.92      0.91      1309\n",
      "             Household       0.94      0.93      0.94      2662\n",
      "\n",
      "              accuracy                           0.93      6951\n",
      "             macro avg       0.93      0.93      0.93      6951\n",
      "          weighted avg       0.93      0.93      0.93      6951\n",
      "\n"
     ]
    }
   ]
  },
  {
   "cell_type": "markdown",
   "source": [],
   "metadata": {
    "collapsed": false
   }
  },
  {
   "cell_type": "code",
   "source": [
    "sns.heatmap(confusion_matrix(y_test,None,annot=True,fmt='5',cmap='Blues',xticklabels=None,yticklabels=None)"
   ],
   "metadata": {
    "colab": {
     "base_uri": "https://localhost:8080/",
     "height": 593
    },
    "id": "g1TiR8MzlfJM",
    "outputId": "d1f8ca3e-2294-4aa8-e359-577742df6de9"
   },
   "execution_count": null,
   "outputs": [
    {
     "output_type": "execute_result",
     "data": {
      "text/plain": [
       "<Axes: >"
      ]
     },
     "metadata": {},
     "execution_count": 36
    },
    {
     "output_type": "display_data",
     "data": {
      "text/plain": [
       "<Figure size 640x480 with 2 Axes>"
      ],
      "image/png": "[encoded data removed]"
     },
     "metadata": {}
    }
   ]
  },
  {
   "cell_type": "code",
   "source": [],
   "metadata": {
    "id": "dQ9w822um8qq"
   },
   "execution_count": null,
   "outputs": []
  }
 ]
}
